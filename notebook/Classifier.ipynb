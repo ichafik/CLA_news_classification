{
 "cells": [
  {
   "cell_type": "code",
   "execution_count": null,
   "metadata": {},
   "outputs": [],
   "source": [
    "# global imports \n",
    "import os \n",
    "import pandas as pd\n",
    "\n",
    "from pathlib import Path\n",
    "path = Path(os.getcwd())\n",
    "HOME_PATH = str(path.parent)\n",
    "\n",
    "from pyspark.sql import SparkSession"
   ]
  },
  {
   "cell_type": "code",
   "execution_count": 2,
   "metadata": {},
   "outputs": [
    {
     "data": {
      "text/html": [
       "<div>\n",
       "<style scoped>\n",
       "    .dataframe tbody tr th:only-of-type {\n",
       "        vertical-align: middle;\n",
       "    }\n",
       "\n",
       "    .dataframe tbody tr th {\n",
       "        vertical-align: top;\n",
       "    }\n",
       "\n",
       "    .dataframe thead th {\n",
       "        text-align: right;\n",
       "    }\n",
       "</style>\n",
       "<table border=\"1\" class=\"dataframe\">\n",
       "  <thead>\n",
       "    <tr style=\"text-align: right;\">\n",
       "      <th></th>\n",
       "      <th>category</th>\n",
       "      <th>text</th>\n",
       "    </tr>\n",
       "  </thead>\n",
       "  <tbody>\n",
       "    <tr>\n",
       "      <th>0</th>\n",
       "      <td>tech</td>\n",
       "      <td>tv future in the hands of viewers with home th...</td>\n",
       "    </tr>\n",
       "    <tr>\n",
       "      <th>1</th>\n",
       "      <td>business</td>\n",
       "      <td>worldcom boss  left books alone  former worldc...</td>\n",
       "    </tr>\n",
       "    <tr>\n",
       "      <th>2</th>\n",
       "      <td>sport</td>\n",
       "      <td>tigers wary of farrell  gamble  leicester say ...</td>\n",
       "    </tr>\n",
       "    <tr>\n",
       "      <th>3</th>\n",
       "      <td>sport</td>\n",
       "      <td>yeading face newcastle in fa cup premiership s...</td>\n",
       "    </tr>\n",
       "    <tr>\n",
       "      <th>4</th>\n",
       "      <td>entertainment</td>\n",
       "      <td>ocean s twelve raids box office ocean s twelve...</td>\n",
       "    </tr>\n",
       "  </tbody>\n",
       "</table>\n",
       "</div>"
      ],
      "text/plain": [
       "        category                                               text\n",
       "0           tech  tv future in the hands of viewers with home th...\n",
       "1       business  worldcom boss  left books alone  former worldc...\n",
       "2          sport  tigers wary of farrell  gamble  leicester say ...\n",
       "3          sport  yeading face newcastle in fa cup premiership s...\n",
       "4  entertainment  ocean s twelve raids box office ocean s twelve..."
      ]
     },
     "execution_count": 2,
     "metadata": {},
     "output_type": "execute_result"
    }
   ],
   "source": [
    "import pandas as pd\n",
    "# needed import\n",
    "bbc_text_df = pd.read_csv(HOME_PATH+'/data/bbc-text.csv')\n",
    "bbc_text_df.head()"
   ]
  },
  {
   "cell_type": "code",
   "execution_count": 3,
   "metadata": {},
   "outputs": [
    {
     "data": {
      "image/png": "[encoded data removed]",
      "text/plain": [
       "<Figure size 864x360 with 1 Axes>"
      ]
     },
     "metadata": {
      "needs_background": "light"
     },
     "output_type": "display_data"
    }
   ],
   "source": [
    "# Plot a graph to see how many news we ve got per category in order to see the distribution of our dataset \n",
    "%matplotlib inline\n",
    "\n",
    "import seaborn as sns\n",
    "import matplotlib.pyplot as plt\n",
    "\n",
    "plt.figure(figsize=(12,5))\n",
    "sns.countplot(x=bbc_text_df.category, color='green')\n",
    "plt.title('BBC text class distribution', fontsize=16)\n",
    "plt.ylabel('Class Counts', fontsize=16)\n",
    "plt.xlabel('Class Label', fontsize=16)\n",
    "plt.xticks(rotation='vertical');"
   ]
  },
  {
   "cell_type": "markdown",
   "metadata": {},
   "source": [
    "##### Data Preprocessing\n",
    "- convert all to lower case\n",
    "- Removing ponctuations marks\n",
    "- remove extra spaces \n",
    "- remove tags\n",
    "- remove stop words (and to or the)\n",
    "- Stemming"
   ]
  },
  {
   "cell_type": "code",
   "execution_count": 7,
   "metadata": {},
   "outputs": [],
   "source": [
    "from gensim import utils\n",
    "import gensim.parsing.preprocessing as gsp\n",
    "\n",
    "filters = [\n",
    "           gsp.strip_tags, \n",
    "           gsp.strip_punctuation,\n",
    "           gsp.strip_multiple_whitespaces,\n",
    "           gsp.strip_numeric,\n",
    "           gsp.remove_stopwords, \n",
    "           gsp.strip_short, \n",
    "           gsp.stem_text\n",
    "          ]\n",
    "\n",
    "def clean_text(s):\n",
    "    s = s.lower()\n",
    "    s = utils.to_unicode(s)\n",
    "    for f in filters:\n",
    "        s = f(s)\n",
    "    return s"
   ]
  },
  {
   "cell_type": "code",
   "execution_count": 8,
   "metadata": {},
   "outputs": [
    {
     "data": {
      "text/plain": [
       "'tiger wari farrel gambl leicest rush make bid andi farrel great britain rugbi leagu captain decid switch code anybodi involv process wai awai go stage tiger boss john well told bbc radio leicest moment lot unknown andi farrel medic situat go big big gambl farrel persist knee problem oper knee week ago expect month leicest saracen believ head list rugbi union club interest sign farrel decid man game union well believ better plai back initi sure step leagu union involv centr said well think england prefer progress posit row us rugbi leagu skill forward juri cross divid club balanc struck cost gambl option bring readi replac'"
      ]
     },
     "execution_count": 8,
     "metadata": {},
     "output_type": "execute_result"
    }
   ],
   "source": [
    "clean_text(bbc_text_df.iloc[2,1])"
   ]
  },
  {
   "cell_type": "markdown",
   "metadata": {},
   "source": [
    "### Now let the fun begin\n",
    "#### making cloud word\n"
   ]
  },
  {
   "cell_type": "code",
   "execution_count": 11,
   "metadata": {},
   "outputs": [],
   "source": [
    "df_x = bbc_text_df['text']\n",
    "df_y = bbc_text_df['category']"
   ]
  },
  {
   "cell_type": "code",
   "execution_count": 12,
   "metadata": {},
   "outputs": [],
   "source": [
    "from gensim.models.doc2vec import TaggedDocument, Doc2Vec\n",
    "from sklearn.base import BaseEstimator\n",
    "from sklearn import utils as skl_utils\n",
    "from tqdm import tqdm\n",
    "\n",
    "import multiprocessing\n",
    "import numpy as np\n",
    "\n",
    "class Doc2VecTransformer(BaseEstimator):\n",
    "\n",
    "    def __init__(self, vector_size=100, learning_rate=0.02, epochs=20):\n",
    "        self.learning_rate = learning_rate\n",
    "        self.epochs = epochs\n",
    "        self._model = None\n",
    "        self.vector_size = vector_size\n",
    "        self.workers = multiprocessing.cpu_count() - 1\n",
    "\n",
    "    def fit(self, df_x, df_y=None):\n",
    "        tagged_x = [TaggedDocument(clean_text(row).split(), [index]) for index, row in enumerate(df_x)]\n",
    "        model = Doc2Vec(documents=tagged_x, vector_size=self.vector_size, workers=self.workers)\n",
    "\n",
    "        for epoch in range(self.epochs):\n",
    "            model.train(skl_utils.shuffle([x for x in tqdm(tagged_x)]), total_examples=len(tagged_x), epochs=1)\n",
    "            model.alpha -= self.learning_rate\n",
    "            model.min_alpha = model.alpha\n",
    "\n",
    "        self._model = model\n",
    "        return self\n",
    "\n",
    "    def transform(self, df_x):\n",
    "        return np.asmatrix(np.array([self._model.infer_vector(clean_text(row).split())\n",
    "for index, row in enumerate(df_x)]))"
   ]
  },
  {
   "cell_type": "markdown",
   "metadata": {},
   "source": [
    "## DOC2VEC\n"
   ]
  },
  {
   "cell_type": "code",
   "execution_count": 13,
   "metadata": {},
   "outputs": [
    {
     "name": "stderr",
     "output_type": "stream",
     "text": [
      "100%|██████████| 2225/2225 [00:00<00:00, 2787433.21it/s]\n",
      "100%|██████████| 2225/2225 [00:00<00:00, 3084047.06it/s]\n",
      "100%|██████████| 2225/2225 [00:00<00:00, 2709734.73it/s]\n",
      "100%|██████████| 2225/2225 [00:00<00:00, 2512742.70it/s]\n",
      "100%|██████████| 2225/2225 [00:00<00:00, 3210294.60it/s]\n",
      "100%|██████████| 2225/2225 [00:00<00:00, 2575145.25it/s]\n",
      "100%|██████████| 2225/2225 [00:00<00:00, 3536311.63it/s]\n",
      "100%|██████████| 2225/2225 [00:00<00:00, 3332973.71it/s]\n",
      "100%|██████████| 2225/2225 [00:00<00:00, 3314036.36it/s]\n",
      "100%|██████████| 2225/2225 [00:00<00:00, 3020170.36it/s]\n",
      "100%|██████████| 2225/2225 [00:00<00:00, 3082010.04it/s]\n",
      "100%|██████████| 2225/2225 [00:00<00:00, 3202582.84it/s]\n",
      "100%|██████████| 2225/2225 [00:00<00:00, 3303478.37it/s]\n",
      "100%|██████████| 2225/2225 [00:00<00:00, 3275649.84it/s]\n",
      "100%|██████████| 2225/2225 [00:00<00:00, 3020170.36it/s]\n",
      "100%|██████████| 2225/2225 [00:00<00:00, 3423450.62it/s]\n",
      "100%|██████████| 2225/2225 [00:00<00:00, 3018216.82it/s]\n",
      "100%|██████████| 2225/2225 [00:00<00:00, 2587282.06it/s]\n",
      "100%|██████████| 2225/2225 [00:00<00:00, 3525623.88it/s]\n",
      "100%|██████████| 2225/2225 [00:00<00:00, 3399754.61it/s]\n"
     ]
    },
    {
     "data": {
      "text/plain": [
       "matrix([[ 7.6177724e-02, -2.4943294e-01,  1.4069784e-01, ...,\n",
       "         -2.6775798e-01,  1.3201460e-01,  1.4781544e-01],\n",
       "        [ 2.0848238e-04,  1.1448180e-02, -3.0812123e-03, ...,\n",
       "          1.1818735e-02, -3.8386376e-03, -3.7918771e-03],\n",
       "        [-4.6487321e-04,  9.6855446e-04, -5.6323200e-03, ...,\n",
       "         -1.5802367e-04,  5.8328774e-04, -3.3406628e-04],\n",
       "        ...,\n",
       "        [ 3.3242237e-03,  5.6827045e-03, -7.5396658e-03, ...,\n",
       "          4.7206362e-03, -5.0453618e-03, -7.5985170e-03],\n",
       "        [ 1.4175060e-01, -4.1123202e-01,  2.2547348e-01, ...,\n",
       "         -4.5718929e-01,  2.2481333e-01,  2.0202561e-01],\n",
       "        [ 2.1492026e-03,  1.7348600e-03,  2.6163857e-03, ...,\n",
       "          5.1888041e-03,  3.7702655e-03, -5.6438206e-04]], dtype=float32)"
      ]
     },
     "execution_count": 13,
     "metadata": {},
     "output_type": "execute_result"
    }
   ],
   "source": [
    "doc2vec_trf = Doc2VecTransformer()\n",
    "doc2vec_features = doc2vec_trf.fit(df_x).transform(df_x)\n",
    "doc2vec_features"
   ]
  },
  {
   "cell_type": "code",
   "execution_count": 14,
   "metadata": {},
   "outputs": [
    {
     "name": "stderr",
     "output_type": "stream",
     "text": [
      "100%|██████████| 1777/1777 [00:00<00:00, 2845848.88it/s]\n",
      "100%|██████████| 1777/1777 [00:00<00:00, 3562752.49it/s]\n",
      "100%|██████████| 1777/1777 [00:00<00:00, 2691685.88it/s]\n",
      "100%|██████████| 1777/1777 [00:00<00:00, 2767648.80it/s]\n",
      "100%|██████████| 1777/1777 [00:00<00:00, 3142191.49it/s]\n",
      "100%|██████████| 1777/1777 [00:00<00:00, 2659985.08it/s]\n",
      "100%|██████████| 1777/1777 [00:00<00:00, 2702421.40it/s]\n",
      "100%|██████████| 1777/1777 [00:00<00:00, 2709297.79it/s]\n",
      "100%|██████████| 1777/1777 [00:00<00:00, 2334255.62it/s]\n",
      "100%|██████████| 1777/1777 [00:00<00:00, 3537388.80it/s]\n",
      "100%|██████████| 1777/1777 [00:00<00:00, 2390403.53it/s]\n",
      "100%|██████████| 1777/1777 [00:00<00:00, 3127687.04it/s]\n",
      "100%|██████████| 1777/1777 [00:00<00:00, 2750287.16it/s]\n",
      "100%|██████████| 1777/1777 [00:00<00:00, 3327356.34it/s]\n",
      "100%|██████████| 1777/1777 [00:00<00:00, 2495238.77it/s]\n",
      "100%|██████████| 1777/1777 [00:00<00:00, 2940149.19it/s]\n",
      "100%|██████████| 1777/1777 [00:00<00:00, 3121138.28it/s]\n",
      "100%|██████████| 1777/1777 [00:00<00:00, 2293316.37it/s]\n",
      "100%|██████████| 1777/1777 [00:00<00:00, 2982504.28it/s]\n",
      "100%|██████████| 1777/1777 [00:00<00:00, 2774861.58it/s]\n",
      "100%|██████████| 1780/1780 [00:00<00:00, 2439026.83it/s]\n",
      "100%|██████████| 1780/1780 [00:00<00:00, 3327032.58it/s]\n",
      "100%|██████████| 1780/1780 [00:00<00:00, 2952100.09it/s]\n",
      "100%|██████████| 1780/1780 [00:00<00:00, 2755947.26it/s]\n",
      "100%|██████████| 1780/1780 [00:00<00:00, 2744801.88it/s]\n",
      "100%|██████████| 1780/1780 [00:00<00:00, 3094016.21it/s]\n",
      "100%|██████████| 1780/1780 [00:00<00:00, 2564706.67it/s]\n",
      "100%|██████████| 1780/1780 [00:00<00:00, 2942791.14it/s]\n",
      "100%|██████████| 1780/1780 [00:00<00:00, 2765133.75it/s]\n",
      "100%|██████████| 1780/1780 [00:00<00:00, 2377662.78it/s]\n",
      "100%|██████████| 1780/1780 [00:00<00:00, 2890383.71it/s]\n",
      "100%|██████████| 1780/1780 [00:00<00:00, 2818369.62it/s]\n",
      "100%|██████████| 1780/1780 [00:00<00:00, 2751883.94it/s]\n",
      "100%|██████████| 1780/1780 [00:00<00:00, 3212504.78it/s]\n",
      "100%|██████████| 1780/1780 [00:00<00:00, 2278956.39it/s]\n",
      "100%|██████████| 1780/1780 [00:00<00:00, 2641847.53it/s]\n",
      "100%|██████████| 1780/1780 [00:00<00:00, 2883685.25it/s]\n",
      "100%|██████████| 1780/1780 [00:00<00:00, 2637181.60it/s]\n",
      "100%|██████████| 1780/1780 [00:00<00:00, 2126420.14it/s]\n",
      "100%|██████████| 1780/1780 [00:00<00:00, 2368610.76it/s]\n",
      "100%|██████████| 1781/1781 [00:00<00:00, 3081706.03it/s]\n",
      "100%|██████████| 1781/1781 [00:00<00:00, 3346799.03it/s]\n",
      "100%|██████████| 1781/1781 [00:00<00:00, 3010905.05it/s]\n",
      "100%|██████████| 1781/1781 [00:00<00:00, 3099608.06it/s]\n",
      "100%|██████████| 1781/1781 [00:00<00:00, 2714409.67it/s]\n",
      "100%|██████████| 1781/1781 [00:00<00:00, 2623834.01it/s]\n",
      "100%|██████████| 1781/1781 [00:00<00:00, 3186883.71it/s]\n",
      "100%|██████████| 1781/1781 [00:00<00:00, 3061498.12it/s]\n",
      "100%|██████████| 1781/1781 [00:00<00:00, 2352032.56it/s]\n",
      "100%|██████████| 1781/1781 [00:00<00:00, 3380115.58it/s]\n",
      "100%|██████████| 1781/1781 [00:00<00:00, 3090631.12it/s]\n",
      "100%|██████████| 1781/1781 [00:00<00:00, 3113820.52it/s]\n",
      "100%|██████████| 1781/1781 [00:00<00:00, 2846819.90it/s]\n",
      "100%|██████████| 1781/1781 [00:00<00:00, 2921413.93it/s]\n",
      "100%|██████████| 1781/1781 [00:00<00:00, 2960782.97it/s]\n",
      "100%|██████████| 1781/1781 [00:00<00:00, 3289324.27it/s]\n",
      "100%|██████████| 1781/1781 [00:00<00:00, 3158585.80it/s]\n",
      "100%|██████████| 1781/1781 [00:00<00:00, 3142640.06it/s]\n",
      "100%|██████████| 1781/1781 [00:00<00:00, 2373706.84it/s]\n",
      "100%|██████████| 1781/1781 [00:00<00:00, 2425342.67it/s]\n",
      "/opt/anaconda/anaconda3/lib/python3.7/site-packages/sklearn/linear_model/sag.py:337: ConvergenceWarning: The max_iter was reached which means the coef_ did not converge\n",
      "  \"the coef_ did not converge\", ConvergenceWarning)\n",
      "100%|██████████| 1781/1781 [00:00<00:00, 2098330.18it/s]\n",
      "100%|██████████| 1781/1781 [00:00<00:00, 3158585.80it/s]\n",
      "100%|██████████| 1781/1781 [00:00<00:00, 3086799.76it/s]\n",
      "100%|██████████| 1781/1781 [00:00<00:00, 2321334.81it/s]\n",
      "100%|██████████| 1781/1781 [00:00<00:00, 2692882.27it/s]\n",
      "100%|██████████| 1781/1781 [00:00<00:00, 2908900.09it/s]\n",
      "100%|██████████| 1781/1781 [00:00<00:00, 3174694.19it/s]\n",
      "100%|██████████| 1781/1781 [00:00<00:00, 3250676.86it/s]\n",
      "100%|██████████| 1781/1781 [00:00<00:00, 2876417.18it/s]\n",
      "100%|██████████| 1781/1781 [00:00<00:00, 2769764.71it/s]\n",
      "100%|██████████| 1781/1781 [00:00<00:00, 2865383.75it/s]\n",
      "100%|██████████| 1781/1781 [00:00<00:00, 2559991.58it/s]\n",
      "100%|██████████| 1781/1781 [00:00<00:00, 3103471.30it/s]\n",
      "100%|██████████| 1781/1781 [00:00<00:00, 3044032.37it/s]\n",
      "100%|██████████| 1781/1781 [00:00<00:00, 2238554.22it/s]\n",
      "100%|██████████| 1781/1781 [00:00<00:00, 2729285.87it/s]\n",
      "100%|██████████| 1781/1781 [00:00<00:00, 3014550.21it/s]\n",
      "100%|██████████| 1781/1781 [00:00<00:00, 2980868.09it/s]\n",
      "100%|██████████| 1781/1781 [00:00<00:00, 2833860.18it/s]\n",
      "100%|██████████| 1781/1781 [00:00<00:00, 3070306.38it/s]\n",
      "/opt/anaconda/anaconda3/lib/python3.7/site-packages/sklearn/linear_model/sag.py:337: ConvergenceWarning: The max_iter was reached which means the coef_ did not converge\n",
      "  \"the coef_ did not converge\", ConvergenceWarning)\n",
      "100%|██████████| 1781/1781 [00:00<00:00, 2851166.19it/s]\n",
      "100%|██████████| 1781/1781 [00:00<00:00, 2445990.64it/s]\n",
      "100%|██████████| 1781/1781 [00:00<00:00, 3429777.51it/s]\n",
      "100%|██████████| 1781/1781 [00:00<00:00, 2719350.35it/s]\n",
      "100%|██████████| 1781/1781 [00:00<00:00, 3182810.15it/s]\n",
      "100%|██████████| 1781/1781 [00:00<00:00, 3232390.92it/s]\n",
      "100%|██████████| 1781/1781 [00:00<00:00, 2894248.52it/s]\n",
      "100%|██████████| 1781/1781 [00:00<00:00, 2823150.20it/s]\n",
      "100%|██████████| 1781/1781 [00:00<00:00, 3036607.90it/s]\n",
      "100%|██████████| 1781/1781 [00:00<00:00, 2588376.79it/s]\n",
      "100%|██████████| 1781/1781 [00:00<00:00, 3159921.92it/s]\n",
      "100%|██████████| 1781/1781 [00:00<00:00, 2898740.95it/s]\n",
      "100%|██████████| 1781/1781 [00:00<00:00, 2857710.57it/s]\n",
      "100%|██████████| 1781/1781 [00:00<00:00, 3455159.77it/s]\n",
      "100%|██████████| 1781/1781 [00:00<00:00, 3357328.28it/s]\n",
      "100%|██████████| 1781/1781 [00:00<00:00, 2923700.75it/s]\n",
      "100%|██████████| 1781/1781 [00:00<00:00, 2914574.88it/s]\n",
      "100%|██████████| 1781/1781 [00:00<00:00, 3312663.16it/s]\n",
      "100%|██████████| 1781/1781 [00:00<00:00, 2823150.20it/s]\n",
      "100%|██████████| 1781/1781 [00:00<00:00, 3077896.75it/s]\n",
      "/opt/anaconda/anaconda3/lib/python3.7/site-packages/sklearn/linear_model/sag.py:337: ConvergenceWarning: The max_iter was reached which means the coef_ did not converge\n",
      "  \"the coef_ did not converge\", ConvergenceWarning)\n"
     ]
    },
    {
     "name": "stdout",
     "output_type": "stream",
     "text": [
      "Accuracy for Logistic Regression:  0.3708413590155163\n"
     ]
    }
   ],
   "source": [
    "# Logistic regression\n",
    "from sklearn.pipeline import Pipeline\n",
    "from sklearn.linear_model import LogisticRegression\n",
    "from sklearn.model_selection import cross_val_score\n",
    "\n",
    "pl_log_reg = Pipeline(steps=[('doc2vec',Doc2VecTransformer()),\n",
    "                             ('log_reg', LogisticRegression(multi_class='multinomial', solver='saga', max_iter=100))])\n",
    "scores = cross_val_score(pl_log_reg, df_x, df_y, cv=5,scoring='accuracy')\n",
    "print('Accuracy for Logistic Regression: ', scores.mean())"
   ]
  },
  {
   "cell_type": "code",
   "execution_count": 15,
   "metadata": {},
   "outputs": [
    {
     "name": "stderr",
     "output_type": "stream",
     "text": [
      "100%|██████████| 1777/1777 [00:00<00:00, 2739168.76it/s]\n",
      "100%|██████████| 1777/1777 [00:00<00:00, 3048375.55it/s]\n",
      "100%|██████████| 1777/1777 [00:00<00:00, 2883279.77it/s]\n",
      "100%|██████████| 1777/1777 [00:00<00:00, 2629022.30it/s]\n",
      "100%|██████████| 1777/1777 [00:00<00:00, 3171607.75it/s]\n",
      "100%|██████████| 1777/1777 [00:00<00:00, 3211235.76it/s]\n",
      "100%|██████████| 1777/1777 [00:00<00:00, 2989682.39it/s]\n",
      "100%|██████████| 1777/1777 [00:00<00:00, 2807261.10it/s]\n",
      "100%|██████████| 1777/1777 [00:00<00:00, 3130314.24it/s]\n",
      "100%|██████████| 1777/1777 [00:00<00:00, 3456993.60it/s]\n",
      "100%|██████████| 1777/1777 [00:00<00:00, 2887748.24it/s]\n",
      "100%|██████████| 1777/1777 [00:00<00:00, 3279048.93it/s]\n",
      "100%|██████████| 1777/1777 [00:00<00:00, 2488573.69it/s]\n",
      "100%|██████████| 1777/1777 [00:00<00:00, 2361621.74it/s]\n",
      "100%|██████████| 1777/1777 [00:00<00:00, 3139544.32it/s]\n",
      "100%|██████████| 1777/1777 [00:00<00:00, 2710282.98it/s]\n",
      "100%|██████████| 1777/1777 [00:00<00:00, 2958824.22it/s]\n",
      "100%|██████████| 1777/1777 [00:00<00:00, 2238221.68it/s]\n",
      "100%|██████████| 1777/1777 [00:00<00:00, 2776929.29it/s]\n",
      "100%|██████████| 1777/1777 [00:00<00:00, 3118526.45it/s]\n",
      "100%|██████████| 1780/1780 [00:00<00:00, 2313560.93it/s]\n",
      "100%|██████████| 1780/1780 [00:00<00:00, 2459921.29it/s]\n",
      "100%|██████████| 1780/1780 [00:00<00:00, 3392031.40it/s]\n",
      "100%|██████████| 1780/1780 [00:00<00:00, 2554177.60it/s]\n",
      "100%|██████████| 1780/1780 [00:00<00:00, 2187477.62it/s]\n",
      "100%|██████████| 1780/1780 [00:00<00:00, 3000748.04it/s]\n",
      "100%|██████████| 1780/1780 [00:00<00:00, 2950933.25it/s]\n",
      "100%|██████████| 1780/1780 [00:00<00:00, 2924348.26it/s]\n",
      "100%|██████████| 1780/1780 [00:00<00:00, 3152812.97it/s]\n",
      "100%|██████████| 1780/1780 [00:00<00:00, 3156812.31it/s]\n",
      "100%|██████████| 1780/1780 [00:00<00:00, 3501811.03it/s]\n",
      "100%|██████████| 1780/1780 [00:00<00:00, 3150152.37it/s]\n",
      "100%|██████████| 1780/1780 [00:00<00:00, 3201484.19it/s]\n",
      "100%|██████████| 1780/1780 [00:00<00:00, 3011642.24it/s]\n",
      "100%|██████████| 1780/1780 [00:00<00:00, 2840890.84it/s]\n",
      "100%|██████████| 1780/1780 [00:00<00:00, 3078705.62it/s]\n",
      "100%|██████████| 1780/1780 [00:00<00:00, 3085066.58it/s]\n",
      "100%|██████████| 1780/1780 [00:00<00:00, 2667331.59it/s]\n",
      "100%|██████████| 1780/1780 [00:00<00:00, 3112072.16it/s]\n",
      "100%|██████████| 1780/1780 [00:00<00:00, 3067321.74it/s]\n",
      "100%|██████████| 1781/1781 [00:00<00:00, 2485048.38it/s]\n",
      "100%|██████████| 1781/1781 [00:00<00:00, 2655547.61it/s]\n",
      "100%|██████████| 1781/1781 [00:00<00:00, 2530506.58it/s]\n",
      "100%|██████████| 1781/1781 [00:00<00:00, 2799870.85it/s]\n",
      "100%|██████████| 1781/1781 [00:00<00:00, 3012119.12it/s]\n",
      "100%|██████████| 1781/1781 [00:00<00:00, 3006058.52it/s]\n",
      "100%|██████████| 1781/1781 [00:00<00:00, 2611907.49it/s]\n",
      "100%|██████████| 1781/1781 [00:00<00:00, 2932883.95it/s]\n",
      "100%|██████████| 1781/1781 [00:00<00:00, 3125546.20it/s]\n",
      "100%|██████████| 1781/1781 [00:00<00:00, 2340242.93it/s]\n",
      "100%|██████████| 1781/1781 [00:00<00:00, 2643331.71it/s]\n",
      "100%|██████████| 1781/1781 [00:00<00:00, 3190967.72it/s]\n",
      "100%|██████████| 1781/1781 [00:00<00:00, 3015767.23it/s]\n",
      "100%|██████████| 1781/1781 [00:00<00:00, 3207408.94it/s]\n",
      "100%|██████████| 1781/1781 [00:00<00:00, 2676479.91it/s]\n",
      "100%|██████████| 1781/1781 [00:00<00:00, 3195062.20it/s]\n",
      "100%|██████████| 1781/1781 [00:00<00:00, 2188706.54it/s]\n",
      "100%|██████████| 1781/1781 [00:00<00:00, 3312663.16it/s]\n",
      "100%|██████████| 1781/1781 [00:00<00:00, 2853344.32it/s]\n",
      "100%|██████████| 1781/1781 [00:00<00:00, 2559991.58it/s]\n",
      "100%|██████████| 1781/1781 [00:00<00:00, 2434035.65it/s]\n",
      "100%|██████████| 1781/1781 [00:00<00:00, 2573219.23it/s]\n",
      "100%|██████████| 1781/1781 [00:00<00:00, 3125546.20it/s]\n",
      "100%|██████████| 1781/1781 [00:00<00:00, 2670738.44it/s]\n",
      "100%|██████████| 1781/1781 [00:00<00:00, 2387361.91it/s]\n",
      "100%|██████████| 1781/1781 [00:00<00:00, 3196429.36it/s]\n",
      "100%|██████████| 1781/1781 [00:00<00:00, 2841405.64it/s]\n",
      "100%|██████████| 1781/1781 [00:00<00:00, 3192331.38it/s]\n",
      "100%|██████████| 1781/1781 [00:00<00:00, 2796726.10it/s]\n",
      "100%|██████████| 1781/1781 [00:00<00:00, 2858804.22it/s]\n",
      "100%|██████████| 1781/1781 [00:00<00:00, 2240568.51it/s]\n",
      "100%|██████████| 1781/1781 [00:00<00:00, 2594670.17it/s]\n",
      "100%|██████████| 1781/1781 [00:00<00:00, 3230992.83it/s]\n",
      "100%|██████████| 1781/1781 [00:00<00:00, 2361699.47it/s]\n",
      "100%|██████████| 1781/1781 [00:00<00:00, 2806181.60it/s]\n",
      "100%|██████████| 1781/1781 [00:00<00:00, 2037658.33it/s]\n",
      "100%|██████████| 1781/1781 [00:00<00:00, 2677439.22it/s]\n",
      "100%|██████████| 1781/1781 [00:00<00:00, 2896492.99it/s]\n",
      "100%|██████████| 1781/1781 [00:00<00:00, 2865383.75it/s]\n",
      "100%|██████████| 1781/1781 [00:00<00:00, 3163937.07it/s]\n",
      "/opt/anaconda/anaconda3/lib/python3.7/site-packages/sklearn/linear_model/sag.py:337: ConvergenceWarning: The max_iter was reached which means the coef_ did not converge\n",
      "  \"the coef_ did not converge\", ConvergenceWarning)\n",
      "100%|██████████| 1781/1781 [00:00<00:00, 2445990.64it/s]\n",
      "100%|██████████| 1781/1781 [00:00<00:00, 2869786.95it/s]\n",
      "100%|██████████| 1781/1781 [00:00<00:00, 2324223.84it/s]\n",
      "100%|██████████| 1781/1781 [00:00<00:00, 2789415.77it/s]\n",
      "100%|██████████| 1781/1781 [00:00<00:00, 2856617.75it/s]\n",
      "100%|██████████| 1781/1781 [00:00<00:00, 2744326.02it/s]\n",
      "100%|██████████| 1781/1781 [00:00<00:00, 3010905.05it/s]\n",
      "100%|██████████| 1781/1781 [00:00<00:00, 3070306.38it/s]\n",
      "100%|██████████| 1781/1781 [00:00<00:00, 2994010.19it/s]\n",
      "100%|██████████| 1781/1781 [00:00<00:00, 3325937.41it/s]\n",
      "100%|██████████| 1781/1781 [00:00<00:00, 2986827.44it/s]\n",
      "100%|██████████| 1781/1781 [00:00<00:00, 2996412.12it/s]\n",
      "100%|██████████| 1781/1781 [00:00<00:00, 2726297.60it/s]\n",
      "100%|██████████| 1781/1781 [00:00<00:00, 3161259.17it/s]\n",
      "100%|██████████| 1781/1781 [00:00<00:00, 2693853.38it/s]\n",
      "100%|██████████| 1781/1781 [00:00<00:00, 2505889.11it/s]\n",
      "100%|██████████| 1781/1781 [00:00<00:00, 3023090.01it/s]\n",
      "100%|██████████| 1781/1781 [00:00<00:00, 3138678.75it/s]\n",
      "100%|██████████| 1781/1781 [00:00<00:00, 2329296.98it/s]\n",
      "100%|██████████| 1781/1781 [00:00<00:00, 3058990.76it/s]\n",
      "/opt/anaconda/anaconda3/lib/python3.7/site-packages/sklearn/linear_model/sag.py:337: ConvergenceWarning: The max_iter was reached which means the coef_ did not converge\n",
      "  \"the coef_ did not converge\", ConvergenceWarning)\n"
     ]
    },
    {
     "name": "stdout",
     "output_type": "stream",
     "text": [
      "Accuracy for Logistic Regression:  0.3762526752273943\n"
     ]
    }
   ],
   "source": [
    "# Random forest\n",
    "from sklearn.pipeline import Pipeline\n",
    "from sklearn.linear_model import LogisticRegression\n",
    "from sklearn.model_selection import cross_val_score\n",
    "\n",
    "pl_log_reg = Pipeline(steps=[('doc2vec',Doc2VecTransformer()),\n",
    "                             ('log_reg', LogisticRegression(multi_class='multinomial', solver='saga', max_iter=100))])\n",
    "scores = cross_val_score(pl_log_reg, df_x, df_y, cv=5,scoring='accuracy')\n",
    "print('Accuracy for Logistic Regression: ', scores.mean())"
   ]
  },
  {
   "cell_type": "code",
   "execution_count": 16,
   "metadata": {},
   "outputs": [
    {
     "name": "stderr",
     "output_type": "stream",
     "text": [
      "100%|██████████| 1777/1777 [00:00<00:00, 2311094.02it/s]\n",
      "100%|██████████| 1777/1777 [00:00<00:00, 3222342.50it/s]\n",
      "100%|██████████| 1777/1777 [00:00<00:00, 3294994.79it/s]\n",
      "100%|██████████| 1777/1777 [00:00<00:00, 3466641.03it/s]\n",
      "100%|██████████| 1777/1777 [00:00<00:00, 2439698.27it/s]\n",
      "100%|██████████| 1777/1777 [00:00<00:00, 3160847.42it/s]\n",
      "100%|██████████| 1777/1777 [00:00<00:00, 3502480.36it/s]\n",
      "100%|██████████| 1777/1777 [00:00<00:00, 2983698.24it/s]\n",
      "100%|██████████| 1777/1777 [00:00<00:00, 3340779.12it/s]\n",
      "100%|██████████| 1777/1777 [00:00<00:00, 2100106.57it/s]\n",
      "100%|██████████| 1777/1777 [00:00<00:00, 3429948.55it/s]\n",
      "100%|██████████| 1777/1777 [00:00<00:00, 3045884.02it/s]\n",
      "100%|██████████| 1777/1777 [00:00<00:00, 3131629.50it/s]\n",
      "100%|██████████| 1777/1777 [00:00<00:00, 3174309.29it/s]\n",
      "100%|██████████| 1777/1777 [00:00<00:00, 2416756.88it/s]\n",
      "100%|██████████| 1777/1777 [00:00<00:00, 3175661.78it/s]\n",
      "100%|██████████| 1777/1777 [00:00<00:00, 2419895.52it/s]\n",
      "100%|██████████| 1777/1777 [00:00<00:00, 2098332.83it/s]\n",
      "100%|██████████| 1777/1777 [00:00<00:00, 3187886.32it/s]\n",
      "100%|██████████| 1777/1777 [00:00<00:00, 2157868.62it/s]\n",
      "100%|██████████| 1780/1780 [00:00<00:00, 2225293.93it/s]\n",
      "100%|██████████| 1780/1780 [00:00<00:00, 3154144.96it/s]\n",
      "100%|██████████| 1780/1780 [00:00<00:00, 3223601.52it/s]\n",
      "100%|██████████| 1780/1780 [00:00<00:00, 2768209.54it/s]\n",
      "100%|██████████| 1780/1780 [00:00<00:00, 3624204.43it/s]\n",
      "100%|██████████| 1780/1780 [00:00<00:00, 2849565.31it/s]\n",
      "100%|██████████| 1780/1780 [00:00<00:00, 2960293.86it/s]\n",
      "100%|██████████| 1780/1780 [00:00<00:00, 2964996.47it/s]\n",
      "100%|██████████| 1780/1780 [00:00<00:00, 2639979.18it/s]\n",
      "100%|██████████| 1780/1780 [00:00<00:00, 3251681.67it/s]\n",
      "100%|██████████| 1780/1780 [00:00<00:00, 2357392.21it/s]\n",
      "100%|██████████| 1780/1780 [00:00<00:00, 2666378.97it/s]\n",
      "100%|██████████| 1780/1780 [00:00<00:00, 2403689.99it/s]\n",
      "100%|██████████| 1780/1780 [00:00<00:00, 2619600.39it/s]\n",
      "100%|██████████| 1780/1780 [00:00<00:00, 3164841.51it/s]\n",
      "100%|██████████| 1780/1780 [00:00<00:00, 3147496.26it/s]\n",
      "100%|██████████| 1780/1780 [00:00<00:00, 2631604.20it/s]\n",
      "100%|██████████| 1780/1780 [00:00<00:00, 2735749.77it/s]\n",
      "100%|██████████| 1780/1780 [00:00<00:00, 2286634.34it/s]\n",
      "100%|██████████| 1780/1780 [00:00<00:00, 3281697.20it/s]\n",
      "100%|██████████| 1781/1781 [00:00<00:00, 2322056.40it/s]\n",
      "100%|██████████| 1781/1781 [00:00<00:00, 2958437.79it/s]\n",
      "100%|██████████| 1781/1781 [00:00<00:00, 2745334.59it/s]\n",
      "100%|██████████| 1781/1781 [00:00<00:00, 3039078.69it/s]\n",
      "100%|██████████| 1781/1781 [00:00<00:00, 2225217.58it/s]\n",
      "100%|██████████| 1781/1781 [00:00<00:00, 2785255.56it/s]\n",
      "100%|██████████| 1781/1781 [00:00<00:00, 2881965.83it/s]\n",
      "100%|██████████| 1781/1781 [00:00<00:00, 2979679.07it/s]\n",
      "100%|██████████| 1781/1781 [00:00<00:00, 2833860.18it/s]\n",
      "100%|██████████| 1781/1781 [00:00<00:00, 2961956.95it/s]\n",
      "100%|██████████| 1781/1781 [00:00<00:00, 3062753.35it/s]\n",
      "100%|██████████| 1781/1781 [00:00<00:00, 2688037.22it/s]\n",
      "100%|██████████| 1781/1781 [00:00<00:00, 2989217.86it/s]\n",
      "100%|██████████| 1781/1781 [00:00<00:00, 3082977.89it/s]\n",
      "100%|██████████| 1781/1781 [00:00<00:00, 2361699.47it/s]\n",
      "100%|██████████| 1781/1781 [00:00<00:00, 3055237.39it/s]\n",
      "100%|██████████| 1781/1781 [00:00<00:00, 3013334.18it/s]\n",
      "100%|██████████| 1781/1781 [00:00<00:00, 2303439.85it/s]\n",
      "100%|██████████| 1781/1781 [00:00<00:00, 3065266.90it/s]\n",
      "100%|██████████| 1781/1781 [00:00<00:00, 3098322.45it/s]\n",
      "100%|██████████| 1781/1781 [00:00<00:00, 2280236.70it/s]\n",
      "100%|██████████| 1781/1781 [00:00<00:00, 3263458.03it/s]\n",
      "100%|██████████| 1781/1781 [00:00<00:00, 2719350.35it/s]\n",
      "100%|██████████| 1781/1781 [00:00<00:00, 3100894.74it/s]\n",
      "100%|██████████| 1781/1781 [00:00<00:00, 2588376.79it/s]\n",
      "100%|██████████| 1781/1781 [00:00<00:00, 2307709.43it/s]\n",
      "100%|██████████| 1781/1781 [00:00<00:00, 3158585.80it/s]\n",
      "100%|██████████| 1781/1781 [00:00<00:00, 2681283.35it/s]\n",
      "100%|██████████| 1781/1781 [00:00<00:00, 2594670.17it/s]\n",
      "100%|██████████| 1781/1781 [00:00<00:00, 2960782.97it/s]\n",
      "100%|██████████| 1781/1781 [00:00<00:00, 2811462.33it/s]\n",
      "100%|██████████| 1781/1781 [00:00<00:00, 2541699.70it/s]\n",
      "100%|██████████| 1781/1781 [00:00<00:00, 2170896.66it/s]\n",
      "100%|██████████| 1781/1781 [00:00<00:00, 3415663.20it/s]\n",
      "100%|██████████| 1781/1781 [00:00<00:00, 3229595.95it/s]\n",
      "100%|██████████| 1781/1781 [00:00<00:00, 3296582.27it/s]\n",
      "100%|██████████| 1781/1781 [00:00<00:00, 3100894.74it/s]\n",
      "100%|██████████| 1781/1781 [00:00<00:00, 2214662.15it/s]\n",
      "100%|██████████| 1781/1781 [00:00<00:00, 2964307.71it/s]\n",
      "100%|██████████| 1781/1781 [00:00<00:00, 2375216.35it/s]\n",
      "100%|██████████| 1781/1781 [00:00<00:00, 2269843.64it/s]\n",
      "100%|██████████| 1781/1781 [00:00<00:00, 2800920.67it/s]\n",
      "100%|██████████| 1781/1781 [00:00<00:00, 2974932.47it/s]\n",
      "100%|██████████| 1781/1781 [00:00<00:00, 2259544.90it/s]\n",
      "100%|██████████| 1781/1781 [00:00<00:00, 2994010.19it/s]\n",
      "100%|██████████| 1781/1781 [00:00<00:00, 3003641.10it/s]\n",
      "100%|██████████| 1781/1781 [00:00<00:00, 2767712.27it/s]\n",
      "100%|██████████| 1781/1781 [00:00<00:00, 2580330.03it/s]\n",
      "100%|██████████| 1781/1781 [00:00<00:00, 3214309.56it/s]\n",
      "100%|██████████| 1781/1781 [00:00<00:00, 2721331.67it/s]\n",
      "100%|██████████| 1781/1781 [00:00<00:00, 3184166.85it/s]\n",
      "100%|██████████| 1781/1781 [00:00<00:00, 2657437.01it/s]\n",
      "100%|██████████| 1781/1781 [00:00<00:00, 2950258.86it/s]\n",
      "100%|██████████| 1781/1781 [00:00<00:00, 2308422.57it/s]\n",
      "100%|██████████| 1781/1781 [00:00<00:00, 2938652.80it/s]\n",
      "100%|██████████| 1781/1781 [00:00<00:00, 2964307.71it/s]\n",
      "100%|██████████| 1781/1781 [00:00<00:00, 2986827.44it/s]\n",
      "100%|██████████| 1781/1781 [00:00<00:00, 2804074.86it/s]\n",
      "100%|██████████| 1781/1781 [00:00<00:00, 3308261.92it/s]\n",
      "100%|██████████| 1781/1781 [00:00<00:00, 2652718.55it/s]\n"
     ]
    },
    {
     "name": "stdout",
     "output_type": "stream",
     "text": [
      "Accuracy for XGBoost Classifier :  0.3604809986551559\n"
     ]
    }
   ],
   "source": [
    "# XGBoost\n",
    "import xgboost as xgb\n",
    "\n",
    "pl_xgb = Pipeline(steps=[('doc2vec',Doc2VecTransformer()),\n",
    "                         ('xgboost', xgb.XGBClassifier(objective='multi:softmax'))])\n",
    "scores = cross_val_score(pl_xgb, df_x, df_y, cv=5)\n",
    "print('Accuracy for XGBoost Classifier : ', scores.mean())"
   ]
  },
  {
   "cell_type": "markdown",
   "metadata": {},
   "source": [
    "#### TF-IDF"
   ]
  },
  {
   "cell_type": "code",
   "execution_count": 18,
   "metadata": {},
   "outputs": [],
   "source": [
    "from sklearn.feature_extraction.text import TfidfVectorizer\n",
    "\n",
    "class Text2TfIdfTransformer(BaseEstimator):\n",
    "\n",
    "    def __init__(self):\n",
    "        self._model = TfidfVectorizer()\n",
    "        pass\n",
    "\n",
    "    def fit(self, df_x, df_y=None):\n",
    "        df_x = df_x.apply(lambda x : clean_text(x))\n",
    "        self._model.fit(df_x)\n",
    "        return self\n",
    "\n",
    "    def transform(self, df_x):\n",
    "        return self._model.transform(df_x)"
   ]
  },
  {
   "cell_type": "code",
   "execution_count": 19,
   "metadata": {},
   "outputs": [],
   "source": [
    "tfidf_transformer = Text2TfIdfTransformer()\n",
    "tfidf_vectors = tfidf_transformer.fit(df_x).transform(df_x)"
   ]
  },
  {
   "cell_type": "code",
   "execution_count": 20,
   "metadata": {},
   "outputs": [
    {
     "data": {
      "text/plain": [
       "(2225, 18754)"
      ]
     },
     "execution_count": 20,
     "metadata": {},
     "output_type": "execute_result"
    }
   ],
   "source": [
    "tfidf_vectors.shape"
   ]
  },
  {
   "cell_type": "code",
   "execution_count": 21,
   "metadata": {},
   "outputs": [
    {
     "name": "stdout",
     "output_type": "stream",
     "text": [
      "  (0, 18656)\t0.026751783070208267\n",
      "  (0, 18461)\t0.012282569403139645\n",
      "  (0, 18330)\t0.06321612895581909\n",
      "  (0, 18304)\t0.1583605258104538\n",
      "  (0, 18174)\t0.03191861694040893\n",
      "  (0, 18106)\t0.07347900571034054\n",
      "  (0, 18077)\t0.0820082845034905\n",
      "  (0, 18027)\t0.08634135472606572\n",
      "  (0, 17846)\t0.024976845920106364\n",
      "  (0, 17835)\t0.03920692490243918\n",
      "  (0, 17819)\t0.0237112847547106\n",
      "  (0, 17635)\t0.10369692742506256\n",
      "  (0, 17586)\t0.058415007300576784\n",
      "  (0, 17171)\t0.42378247529420265\n",
      "  (0, 17022)\t0.04909762905009908\n",
      "  (0, 16860)\t0.024467110895914575\n",
      "  (0, 16826)\t0.012395674298416093\n",
      "  (0, 16801)\t0.04354600077310887\n",
      "  (0, 16800)\t0.1061221922410514\n",
      "  (0, 16759)\t0.019836834312179287\n",
      "  (0, 16756)\t0.02454881452504954\n",
      "  (0, 16637)\t0.108042004704681\n",
      "  (0, 16625)\t0.3048220054117621\n",
      "  (0, 16528)\t0.02112249983533661\n",
      "  (0, 16356)\t0.030876741901122738\n",
      "  :\t:\n",
      "  (2224, 8118)\t0.5554941760150036\n",
      "  (2224, 8007)\t0.10226374007302491\n",
      "  (2224, 7455)\t0.11194511747688254\n",
      "  (2224, 7426)\t0.0589324755687766\n",
      "  (2224, 7372)\t0.046228871018802895\n",
      "  (2224, 7194)\t0.04224237232240501\n",
      "  (2224, 6979)\t0.04282442634008761\n",
      "  (2224, 6894)\t0.13014047933150136\n",
      "  (2224, 6809)\t0.15996492879553578\n",
      "  (2224, 6538)\t0.05597359218279202\n",
      "  (2224, 5990)\t0.2238902349537651\n",
      "  (2224, 5832)\t0.05802124324763755\n",
      "  (2224, 5468)\t0.054993029983830606\n",
      "  (2224, 5262)\t0.03457617845385061\n",
      "  (2224, 4218)\t0.06617233522083804\n",
      "  (2224, 4008)\t0.06467440738768825\n",
      "  (2224, 3884)\t0.10309753359492461\n",
      "  (2224, 3159)\t0.04917284992010071\n",
      "  (2224, 2353)\t0.20452748014604982\n",
      "  (2224, 1951)\t0.051273991866999734\n",
      "  (2224, 1699)\t0.054758280337499035\n",
      "  (2224, 1402)\t0.04940892216244384\n",
      "  (2224, 1195)\t0.05990733218139661\n",
      "  (2224, 946)\t0.3188456242208901\n",
      "  (2224, 355)\t0.057874987721008485\n"
     ]
    }
   ],
   "source": [
    "print(tfidf_vectors)"
   ]
  },
  {
   "cell_type": "code",
   "execution_count": 22,
   "metadata": {},
   "outputs": [
    {
     "name": "stderr",
     "output_type": "stream",
     "text": [
      "/opt/anaconda/anaconda3/lib/python3.7/site-packages/sklearn/linear_model/sag.py:337: ConvergenceWarning: The max_iter was reached which means the coef_ did not converge\n",
      "  \"the coef_ did not converge\", ConvergenceWarning)\n",
      "/opt/anaconda/anaconda3/lib/python3.7/site-packages/sklearn/linear_model/sag.py:337: ConvergenceWarning: The max_iter was reached which means the coef_ did not converge\n",
      "  \"the coef_ did not converge\", ConvergenceWarning)\n",
      "/opt/anaconda/anaconda3/lib/python3.7/site-packages/sklearn/linear_model/sag.py:337: ConvergenceWarning: The max_iter was reached which means the coef_ did not converge\n",
      "  \"the coef_ did not converge\", ConvergenceWarning)\n"
     ]
    },
    {
     "name": "stdout",
     "output_type": "stream",
     "text": [
      "Accuracy for Tf-Idf & Logistic Regression:  0.8966269268867583\n"
     ]
    },
    {
     "name": "stderr",
     "output_type": "stream",
     "text": [
      "/opt/anaconda/anaconda3/lib/python3.7/site-packages/sklearn/linear_model/sag.py:337: ConvergenceWarning: The max_iter was reached which means the coef_ did not converge\n",
      "  \"the coef_ did not converge\", ConvergenceWarning)\n"
     ]
    }
   ],
   "source": [
    "# Logitisic Regression\n",
    "pl_log_reg_tf_idf = Pipeline(steps=[('tfidf',Text2TfIdfTransformer()),\n",
    "                             ('log_reg', LogisticRegression(multi_class='multinomial', solver='saga', max_iter=100))])\n",
    "scores = cross_val_score(pl_log_reg_tf_idf, df_x, df_y, cv=5,scoring='accuracy')\n",
    "print('Accuracy for Tf-Idf & Logistic Regression: ', scores.mean())"
   ]
  },
  {
   "cell_type": "code",
   "execution_count": 30,
   "metadata": {},
   "outputs": [
    {
     "name": "stderr",
     "output_type": "stream",
     "text": [
      "/opt/anaconda/anaconda3/lib/python3.7/site-packages/sklearn/ensemble/forest.py:245: FutureWarning: The default value of n_estimators will change from 10 in version 0.20 to 100 in 0.22.\n",
      "  \"10 in version 0.20 to 100 in 0.22.\", FutureWarning)\n",
      "/opt/anaconda/anaconda3/lib/python3.7/site-packages/sklearn/ensemble/forest.py:245: FutureWarning: The default value of n_estimators will change from 10 in version 0.20 to 100 in 0.22.\n",
      "  \"10 in version 0.20 to 100 in 0.22.\", FutureWarning)\n",
      "/opt/anaconda/anaconda3/lib/python3.7/site-packages/sklearn/ensemble/forest.py:245: FutureWarning: The default value of n_estimators will change from 10 in version 0.20 to 100 in 0.22.\n",
      "  \"10 in version 0.20 to 100 in 0.22.\", FutureWarning)\n",
      "/opt/anaconda/anaconda3/lib/python3.7/site-packages/sklearn/ensemble/forest.py:245: FutureWarning: The default value of n_estimators will change from 10 in version 0.20 to 100 in 0.22.\n",
      "  \"10 in version 0.20 to 100 in 0.22.\", FutureWarning)\n"
     ]
    },
    {
     "name": "stdout",
     "output_type": "stream",
     "text": [
      "Accuracy for Tf-Idf & RandomForest :  0.8619956202189348\n"
     ]
    },
    {
     "name": "stderr",
     "output_type": "stream",
     "text": [
      "/opt/anaconda/anaconda3/lib/python3.7/site-packages/sklearn/ensemble/forest.py:245: FutureWarning: The default value of n_estimators will change from 10 in version 0.20 to 100 in 0.22.\n",
      "  \"10 in version 0.20 to 100 in 0.22.\", FutureWarning)\n"
     ]
    }
   ],
   "source": [
    "# Random Forest\n",
    "from sklearn.ensemble import RandomForestClassifier\n",
    "pl_random_forest_tf_idf = Pipeline(steps=[('tfidf',Text2TfIdfTransformer()),\n",
    "                                   ('random_forest', RandomForestClassifier())])\n",
    "scores = cross_val_score(pl_random_forest_tf_idf, df_x, df_y, cv=5,scoring='accuracy')\n",
    "print('Accuracy for Tf-Idf & RandomForest : ', scores.mean())"
   ]
  },
  {
   "cell_type": "code",
   "execution_count": 27,
   "metadata": {},
   "outputs": [
    {
     "name": "stdout",
     "output_type": "stream",
     "text": [
      "Accuracy for Tf-Idf & XGBoost Classifier :  0.933037928578659\n"
     ]
    }
   ],
   "source": [
    "pl_xgb_tf_idf = Pipeline(steps=[('tfidf',Text2TfIdfTransformer()),\n",
    "                         ('xgboost', xgb.XGBClassifier(objective='multi:softmax'))])\n",
    "scores = cross_val_score(pl_xgb_tf_idf, df_x, df_y, cv=5)\n",
    "print('Accuracy for Tf-Idf & XGBoost Classifier : ', scores.mean())"
   ]
  },
  {
   "cell_type": "markdown",
   "metadata": {},
   "source": [
    "# conclusion\n",
    "now we came to the end of this notebook, we have seen that the DOC2VEC didnt give good result altough its more sofisticated and this is caused by the nature of our data which is spread Gramatically.\n",
    "the TF-IDF was our best approach using XGBoost Classifier and gave us 93.3% accurancy  "
   ]
  }
 ],
 "metadata": {
  "kernelspec": {
   "display_name": "Python-3 Spark-2.4.6 Local(All cores)",
   "language": "python",
   "name": "spark-2.4.6"
  },
  "language_info": {
   "codemirror_mode": {
    "name": "ipython",
    "version": 3
   },
   "file_extension": ".py",
   "mimetype": "text/x-python",
   "name": "python",
   "nbconvert_exporter": "python",
   "pygments_lexer": "ipython3",
   "version": "3.7.0"
  }
 },
 "nbformat": 4,
 "nbformat_minor": 4
}
